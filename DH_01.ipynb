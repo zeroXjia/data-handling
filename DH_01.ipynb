{
 "cells": [
  {
   "cell_type": "markdown",
   "id": "38eae704",
   "metadata": {},
   "source": [
    "# 01. 연산자와 기본 자료형"
   ]
  },
  {
   "cell_type": "code",
   "execution_count": 1,
   "id": "10df38a6",
   "metadata": {},
   "outputs": [
    {
     "name": "stdout",
     "output_type": "stream",
     "text": [
      "3.9.13 (main, Aug 25 2022, 23:51:50) [MSC v.1916 64 bit (AMD64)]\n"
     ]
    }
   ],
   "source": [
    "# 버전확인\n",
    "import sys\n",
    "print(sys.version)"
   ]
  },
  {
   "cell_type": "code",
   "execution_count": null,
   "id": "443d0a6a",
   "metadata": {},
   "outputs": [],
   "source": [
    "# 데이터 형식 확인\n",
    "type()"
   ]
  },
  {
   "cell_type": "markdown",
   "id": "4bb153ec",
   "metadata": {},
   "source": [
    "$ $\n",
    "\n",
    "$ $"
   ]
  },
  {
   "cell_type": "markdown",
   "id": "dd835c27",
   "metadata": {},
   "source": [
    "##### 산술 연산자\n"
   ]
  },
  {
   "cell_type": "code",
   "execution_count": 2,
   "id": "2f149830",
   "metadata": {},
   "outputs": [
    {
     "name": "stdout",
     "output_type": "stream",
     "text": [
      "14\n",
      "10\n",
      "24\n",
      "6.0\n"
     ]
    }
   ],
   "source": [
    "# 사칙 연산자\n",
    "a = 12\n",
    "b = 2\n",
    "\n",
    "print(a + b)\n",
    "print(a - b)\n",
    "print(a * b)\n",
    "print(a / b)"
   ]
  },
  {
   "cell_type": "code",
   "execution_count": 3,
   "id": "1cdc9ae5",
   "metadata": {},
   "outputs": [
    {
     "name": "stdout",
     "output_type": "stream",
     "text": [
      "6\n",
      "0\n",
      "4\n"
     ]
    }
   ],
   "source": [
    "print(a // b)   # 몫\n",
    "print(a % b)    # 나머지\n",
    "print(b ** 2)   # 제곱"
   ]
  },
  {
   "cell_type": "code",
   "execution_count": 4,
   "id": "a9a2cf50",
   "metadata": {},
   "outputs": [
    {
     "name": "stdout",
     "output_type": "stream",
     "text": [
      "짝수\n"
     ]
    }
   ],
   "source": [
    "# 연산자 활용\n",
    "a = 20\n",
    "\n",
    "if a % 2 == 0:\n",
    "    result = '짝수'\n",
    "else:\n",
    "    result = '홀수'\n",
    "    \n",
    "print(result)    "
   ]
  },
  {
   "cell_type": "code",
   "execution_count": 8,
   "id": "18b3631a",
   "metadata": {},
   "outputs": [
    {
     "name": "stdout",
     "output_type": "stream",
     "text": [
      "HelloWorld\n",
      "Hello\n",
      "Hi\n",
      "HelloHi\n"
     ]
    }
   ],
   "source": [
    "# print()함수\n",
    "print('Hello', 'World', sep='') # 기본 옵션은 sep=' '\n",
    "\n",
    "# 개행 여부 지정\n",
    "print('Hello', end='\\n')\n",
    "print('Hi')\n",
    "print('Hello', end='')\n",
    "print('Hi')\n"
   ]
  },
  {
   "cell_type": "markdown",
   "id": "124d4465",
   "metadata": {},
   "source": [
    "##### 비교 연산자\n",
    "* = 는 값을 대입하는 연산자이며, '같다' 비교는 <font color='red'>**==**</font> 연산자를 사용합니다.\n",
    "* '같지않다' 비교는 <> 가 아닌 <font color='red'>**!=**</font> 을 사용해야 함을 기억하세요.\n",
    "\n",
    "\n",
    "\n"
   ]
  },
  {
   "cell_type": "markdown",
   "id": "20a29747",
   "metadata": {},
   "source": [
    "##### 논리 연산자\n",
    "* **and(&)**\n",
    "* **or(|)**"
   ]
  },
  {
   "cell_type": "markdown",
   "id": "0169ad86",
   "metadata": {},
   "source": [
    "$ $\n",
    "$ $"
   ]
  },
  {
   "cell_type": "code",
   "execution_count": 9,
   "id": "a3fb910c",
   "metadata": {},
   "outputs": [
    {
     "name": "stdout",
     "output_type": "stream",
     "text": [
      "5\n",
      "<class 'int'>\n"
     ]
    }
   ],
   "source": [
    "# 정수형 int\n",
    "x = 5\n",
    "print(x)\n",
    "print(type(x))"
   ]
  },
  {
   "cell_type": "code",
   "execution_count": 11,
   "id": "8d2619b7",
   "metadata": {},
   "outputs": [
    {
     "name": "stdout",
     "output_type": "stream",
     "text": [
      "2.5\n",
      "<class 'float'>\n"
     ]
    }
   ],
   "source": [
    "# 실수형 float\n",
    "y = 2.5\n",
    "print(y)\n",
    "print(type(y))"
   ]
  },
  {
   "cell_type": "code",
   "execution_count": 15,
   "id": "15d3b198",
   "metadata": {},
   "outputs": [
    {
     "name": "stdout",
     "output_type": "stream",
     "text": [
      "True False\n",
      "<class 'bool'>\n",
      "<class 'bool'>\n"
     ]
    }
   ],
   "source": [
    "# 부울형 bool\n",
    "t = True\n",
    "f = False\n",
    "print(t, f)\n",
    "print(type(t))\n",
    "print(type(f))"
   ]
  },
  {
   "cell_type": "markdown",
   "id": "995e6be7",
   "metadata": {},
   "source": [
    "$ $\n",
    "\n",
    "$ $"
   ]
  },
  {
   "cell_type": "code",
   "execution_count": 16,
   "id": "8876221a",
   "metadata": {},
   "outputs": [],
   "source": [
    "# 라이브러리 불러오기\n",
    "from datetime import datetime\n",
    "\n",
    "# 현재 날짜와 시간 얻기\n",
    "dt = datetime.now()"
   ]
  },
  {
   "cell_type": "code",
   "execution_count": 18,
   "id": "313736b5",
   "metadata": {},
   "outputs": [
    {
     "name": "stdout",
     "output_type": "stream",
     "text": [
      "날짜와 시간: 2023-02-08 22:02:10.420073\n",
      "년: 2023\n",
      "월: 2\n",
      "일: 8\n",
      "시: 22\n",
      "분: 2\n",
      "초: 10\n"
     ]
    }
   ],
   "source": [
    "# 날짜 시간 정보 표시\n",
    "print('날짜와 시간:', dt)\n",
    "print('년:', dt.year)\n",
    "print('월:', dt.month)\n",
    "print('일:', dt.day)\n",
    "print('시:', dt.hour)\n",
    "print('분:', dt.minute)\n",
    "print('초:', dt.second)"
   ]
  }
 ],
 "metadata": {
  "kernelspec": {
   "display_name": "Python 3 (ipykernel)",
   "language": "python",
   "name": "python3"
  },
  "language_info": {
   "codemirror_mode": {
    "name": "ipython",
    "version": 3
   },
   "file_extension": ".py",
   "mimetype": "text/x-python",
   "name": "python",
   "nbconvert_exporter": "python",
   "pygments_lexer": "ipython3",
   "version": "3.9.13"
  }
 },
 "nbformat": 4,
 "nbformat_minor": 5
}
