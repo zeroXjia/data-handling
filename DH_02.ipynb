{
 "cells": [
  {
   "cell_type": "markdown",
   "id": "b91cb55a",
   "metadata": {},
   "source": [
    "# 문자열 자료형"
   ]
  },
  {
   "cell_type": "markdown",
   "id": "9004cabc",
   "metadata": {},
   "source": [
    "##### 문자열 사용"
   ]
  },
  {
   "cell_type": "code",
   "execution_count": 2,
   "id": "8cd23fa8",
   "metadata": {},
   "outputs": [
    {
     "name": "stdout",
     "output_type": "stream",
     "text": [
      "Hello World\n",
      "<class 'str'> <class 'str'>\n",
      "5 5\n"
     ]
    }
   ],
   "source": [
    "# 문자열 변수 선언\n",
    "a = 'Hello'\n",
    "b = 'World'\n",
    "print(a, b)\n",
    "print(type(a), type(b))\n",
    "print(len(a), len(b))"
   ]
  },
  {
   "cell_type": "code",
   "execution_count": 3,
   "id": "44524f5d",
   "metadata": {},
   "outputs": [
    {
     "name": "stdout",
     "output_type": "stream",
     "text": [
      "hello  world\n"
     ]
    }
   ],
   "source": [
    "# 문자열 + 문자열\n",
    "s1 = 'hello'\n",
    "s2 = 'world'\n",
    "s = s1 + '  ' + s2 \n",
    "print(s)"
   ]
  },
  {
   "cell_type": "code",
   "execution_count": 4,
   "id": "1153b090",
   "metadata": {},
   "outputs": [
    {
     "name": "stdout",
     "output_type": "stream",
     "text": [
      "**********\n"
     ]
    }
   ],
   "source": [
    "# 문자열 * 정수\n",
    "print('*' * 10)"
   ]
  },
  {
   "cell_type": "markdown",
   "id": "36666917",
   "metadata": {},
   "source": [
    "$ $\n",
    "\n",
    "$ $"
   ]
  },
  {
   "cell_type": "markdown",
   "id": "10dcd59e",
   "metadata": {},
   "source": [
    "##### format메소드 사용"
   ]
  },
  {
   "cell_type": "code",
   "execution_count": 8,
   "id": "0f512cfe",
   "metadata": {},
   "outputs": [
    {
     "name": "stdout",
     "output_type": "stream",
     "text": [
      "이름:홍길동, 과목:국어, 점수:90\n",
      "이름:홍길동, 과목:수학, 점수:75\n"
     ]
    }
   ],
   "source": [
    "print('이름:{}, 과목:{}, 점수:{}'.format('홍길동', '국어', 90))\n",
    "\n",
    "print('이름:{2}, 과목:{0}, 점수:{1}'.format('수학', 75, '홍길동'))"
   ]
  },
  {
   "cell_type": "code",
   "execution_count": 12,
   "id": "85ef5d9d",
   "metadata": {},
   "outputs": [
    {
     "name": "stdout",
     "output_type": "stream",
     "text": [
      "[홍길동       ] [  1200]\n",
      "[       홍길동] [1200  ]\n",
      "[   홍길동    ][ 1200 ]\n",
      "[---홍길동----] [_1200_]\n"
     ]
    }
   ],
   "source": [
    "# 기본 정렬\n",
    "print('[{0:10}] [{1:6}]'.format('홍길동', 1200))\n",
    "\n",
    "# 오른쪽, 왼쪽 정렬\n",
    "print('[{0:>10}] [{1:<6}]'.format('홍길동', 1200))\n",
    "\n",
    "# 가운데 정렬\n",
    "print('[{0:^10}][{1:^6}]'.format('홍길동', 1200))\n",
    "\n",
    "# 공백을 다른 문자로 채우기\n",
    "print('[{0:-^10}] [{1:_^6}]'.format('홍길동', 1200))"
   ]
  },
  {
   "cell_type": "code",
   "execution_count": 10,
   "id": "5c04c6b1",
   "metadata": {},
   "outputs": [
    {
     "name": "stdout",
     "output_type": "stream",
     "text": [
      "이름: 홍길동\n",
      "연도: 2011\n",
      "실적: 21.3\n",
      "이름: 홍길동\n",
      "연도: 2011\n",
      "실적: 21.3\n"
     ]
    }
   ],
   "source": [
    "# 변수 선언\n",
    "name = '홍길동'\n",
    "year = 2011\n",
    "perf = 21.3\n",
    "print(f'이름: {name}\\n연도: {year}\\n실적: {perf}')\n",
    "\n",
    "# {:,}  >> 1,000단위로 , 찍기\n",
    "# {:.2f}  >> 소수점 2째자리까지 나오기(3째자리에서 반올림)\n",
    "\n",
    "print(f'이름: {name}\\n연도: {year}\\n실적: {perf:.1f}')"
   ]
  },
  {
   "cell_type": "markdown",
   "id": "07ce9ec0",
   "metadata": {},
   "source": [
    "$ $\n",
    "\n",
    "$ $"
   ]
  },
  {
   "cell_type": "markdown",
   "id": "a11b70f1",
   "metadata": {},
   "source": [
    "##### 문자열 인덱싱과 슬라이싱"
   ]
  },
  {
   "cell_type": "markdown",
   "id": "25f2954f",
   "metadata": {},
   "source": [
    "- 정수형 위치 인덱스를 사용해 원하는 요소를 조회하는 것을 **인덱싱(Indexing)**이라고 합니다.\n",
    "- 범위를 지정해 일정 범위의 요소를 조회하는 것을 **슬라이싱(Slicing)**이라고 합니다.\n",
    "- <font color=\"red\">인덱스 값은 0부터 시작</font>함을 잊어서는 안됩니다."
   ]
  },
  {
   "cell_type": "code",
   "execution_count": 20,
   "id": "13339e00",
   "metadata": {},
   "outputs": [
    {
     "name": "stdout",
     "output_type": "stream",
     "text": [
      "은\n",
      "살던\n",
      "산골\n",
      "꽃\n"
     ]
    }
   ],
   "source": [
    "# 문자열 변수\n",
    "s = '나의살던고향은꽃피는산골'\n",
    "\n",
    "print(s[6])  # 은\n",
    "print(s[2:4])  # 살던\n",
    "print(s[-2:])  # 산골\n",
    "print(s[-5])   # 꽃"
   ]
  },
  {
   "cell_type": "markdown",
   "id": "947feaea",
   "metadata": {},
   "source": [
    "$ $\n",
    "\n",
    "$ $"
   ]
  },
  {
   "cell_type": "markdown",
   "id": "f33e48c6",
   "metadata": {},
   "source": [
    "##### 문자열 관련 메소드"
   ]
  },
  {
   "cell_type": "markdown",
   "id": "0cbf5c12",
   "metadata": {},
   "source": [
    "**1) 대/소문자 변환**\n",
    "\n",
    "- **capitalize()** 메소드: 문자열 첫 문자만 대문자, 나머지 모두 소문자로 변환합니다.\n",
    "- **title()** 메소드: 단어 첫 문자만 대문자, 나머지는 모두 소문자로 변환합니다.\n",
    "- **upper()** 메소드: 모든 문자를 대문자로 변환합니다.\n",
    "- **lower()** 메소드: 모든 문자를 소문자로 변환합니다."
   ]
  },
  {
   "cell_type": "code",
   "execution_count": 23,
   "id": "fd6a0a4f",
   "metadata": {},
   "outputs": [
    {
     "name": "stdout",
     "output_type": "stream",
     "text": [
      "I HAVE A DREAM\n",
      "i have a dream\n",
      "I have a dream\n",
      "I Have A Dream\n"
     ]
    }
   ],
   "source": [
    "s = 'I have a dream'\n",
    "\n",
    "\n",
    "# 대문자로 변환 .upper()\n",
    "print(s.upper())\n",
    "\n",
    "\n",
    "# 소문자로 변환 .lower()\n",
    "print(s.lower())\n",
    "\n",
    "\n",
    "# 문자열 첫 문자만 대문자 .capitalize()\n",
    "print(s.capitalize())\n",
    "\n",
    "\n",
    "# 단어 첫 문자만 대문자 .title()\n",
    "print(s.title())\n"
   ]
  },
  {
   "cell_type": "markdown",
   "id": "6f08e254",
   "metadata": {},
   "source": [
    "**2) 자릿수 지정과 정렬**\n",
    "\n",
    "- **rjust(x)** 메소드: 지정한 x 만큼의 자릿수를 확보한 후 오른쪽 정렬합니다.\n",
    "- **ljust(x)** 메소드: 지정한 x 만큼의 자릿수를 확보한 후 왼쪽 정렬합니다.\n",
    "- **center(x)** 메소드: 지정한 x 만큼의 자릿수를 확보한 후 가운데 정렬합니다."
   ]
  },
  {
   "cell_type": "code",
   "execution_count": 26,
   "id": "41b7f40f",
   "metadata": {},
   "outputs": [
    {
     "name": "stdout",
     "output_type": "stream",
     "text": [
      "[  Dream]\n",
      "[Dream  ]\n",
      "[ Dream ]\n"
     ]
    }
   ],
   "source": [
    "d = 'Dream'\n",
    "\n",
    "print('[' + d.rjust(7) + ']')\n",
    "print('[' + d.ljust(7) + ']')\n",
    "print('[' + d.center(7) + ']')"
   ]
  },
  {
   "cell_type": "markdown",
   "id": "cdbf30cf",
   "metadata": {},
   "source": [
    "**3 일부 변경 및 제거**\n",
    "\n",
    "- **replace(x, y)** 메소드: 문자열에 포함된 일부 문자열 x를 문자열 **y**로 변경합니다.\n",
    "- **strip(x)** 메소드: 문자열에서 양쪽의 공백 또는 특수 문자를 제거합니다."
   ]
  },
  {
   "cell_type": "code",
   "execution_count": 34,
   "id": "6a288e28",
   "metadata": {},
   "outputs": [
    {
     "name": "stdout",
     "output_type": "stream",
     "text": [
      "now here\n",
      "[world]\n",
      "#$world$$\n",
      "world\n"
     ]
    }
   ],
   "source": [
    "# 문자열 변경('now' --> 'now ')\n",
    "n = 'nowhere'\n",
    "print(n.replace('now', 'now '))\n",
    "\n",
    "\n",
    "# 앞 뒤 빈 문자열, 특수 문자 제거\n",
    "print('[' + '    world  '.strip() + ']')\n",
    "print('#$world$$'.strip())\n",
    "print('#$world$$'.strip('#$'))\n"
   ]
  },
  {
   "cell_type": "markdown",
   "id": "a231abef",
   "metadata": {},
   "source": [
    "**4) 분리와 연결**\n",
    "\n",
    "- **split((x)** 메소드: x 문자를 구분자로 하여 문자열을 분리하여 리스트로 변환합니다.(공백이 기본 구분자)\n",
    "- **x.join(s)** 메소드: x를 구분자로 하여 요소들을 연결한 문자열로 변환합니다. "
   ]
  },
  {
   "cell_type": "code",
   "execution_count": 38,
   "id": "d3e86987",
   "metadata": {},
   "outputs": [
    {
     "name": "stdout",
     "output_type": "stream",
     "text": [
      "['I', 'have', 'a', 'dream.']\n",
      "오늘은 2020년 09월 01일 입니다.\n"
     ]
    }
   ],
   "source": [
    "# 분리 .split('??')\n",
    "a = 'I have a dream.'\n",
    "print(a.split(' '))\n",
    "\n",
    "## 예시\n",
    "s = '2020-09-01'\n",
    "s1 = s.split('-')\n",
    "year = s1[0]\n",
    "month = s1[1]\n",
    "day = s1[2]\n",
    "\n",
    "print(f'오늘은 {year}년 {month}월 {day}일 입니다.')"
   ]
  },
  {
   "cell_type": "code",
   "execution_count": 40,
   "id": "683ae9fb",
   "metadata": {},
   "outputs": [
    {
     "name": "stdout",
     "output_type": "stream",
     "text": [
      "P/Y/T/H/O/N\n"
     ]
    }
   ],
   "source": [
    "# 중간에 특정 문자열 삽입 .join()\n",
    "p = 'PYTHON'\n",
    "p1 = '/'.join(p)\n",
    "print(p1)"
   ]
  },
  {
   "cell_type": "code",
   "execution_count": null,
   "id": "9ae51891",
   "metadata": {},
   "outputs": [],
   "source": []
  }
 ],
 "metadata": {
  "kernelspec": {
   "display_name": "Python 3 (ipykernel)",
   "language": "python",
   "name": "python3"
  },
  "language_info": {
   "codemirror_mode": {
    "name": "ipython",
    "version": 3
   },
   "file_extension": ".py",
   "mimetype": "text/x-python",
   "name": "python",
   "nbconvert_exporter": "python",
   "pygments_lexer": "ipython3",
   "version": "3.9.13"
  }
 },
 "nbformat": 4,
 "nbformat_minor": 5
}
