{
 "cells": [
  {
   "cell_type": "markdown",
   "id": "c01975d7",
   "metadata": {},
   "source": [
    "# 크롬에서 글꼴 선택\n",
    "\n",
    "#### 오른쪽상단 점3개 -> 설정 -> 글꼴맞춤설정 -> 고정폭글꼴(consolas)"
   ]
  },
  {
   "cell_type": "markdown",
   "id": "4ac7fa90",
   "metadata": {},
   "source": [
    "$  $\n",
    "\n",
    "\n",
    "\n",
    "\n",
    "\n",
    "\n",
    "\n",
    "$ $\n",
    "\n",
    "\n",
    "\n",
    "\n"
   ]
  },
  {
   "cell_type": "markdown",
   "id": "ac89c4bb",
   "metadata": {},
   "source": [
    "# 파이썬 공부 시작 \n",
    "## 주피터 노트북 사용법 익히기\n",
    "### 1. 코드셀과 마크다운셀 사용"
   ]
  },
  {
   "cell_type": "markdown",
   "id": "67fecbf0",
   "metadata": {},
   "source": [
    "다음을 기억해 주세요.\n",
    "- **코드셀**은 실행이 됩니다.\n",
    "- **마크다운셀**은 문서로 남습니다."
   ]
  },
  {
   "cell_type": "markdown",
   "id": "574dd006",
   "metadata": {},
   "source": [
    "$\\huge y = ax + b   $\n",
    "\n",
    "$\\large  y = ax + \\frac{1}{2}b \\sum x_i  $"
   ]
  },
  {
   "cell_type": "code",
   "execution_count": null,
   "id": "c364509b",
   "metadata": {},
   "outputs": [],
   "source": [
    "###     $   $ 사이에 수식 입력   >>>   왼쪽 배치\n",
    "###    $$   $$ 사이에 수식 입력  >>> 가운데 배치\n",
    "###    \\large   >>> 글자 커짐\n",
    "###    \\huge    >>> 글자 더 커짐"
   ]
  },
  {
   "cell_type": "markdown",
   "id": "d409538e",
   "metadata": {},
   "source": [
    "$ $\n",
    "\n",
    "\n",
    "$ $"
   ]
  },
  {
   "cell_type": "markdown",
   "id": "b99868b8",
   "metadata": {},
   "source": [
    "### 2. 단축키(선택모드-파랑)"
   ]
  },
  {
   "cell_type": "markdown",
   "id": "d080a58b",
   "metadata": {},
   "source": [
    "* a(above)     >>> 위 줄 생김\n",
    "* b(below)     >>> 아래 줄 생김\n",
    "* dd(delete)   >>> 두번 누르면 삭제\n",
    "* z            >>> 되돌리기\n",
    "* m            >>> 마크다운으로 바뀜\n",
    "* y            >>> 셀로 바뀜"
   ]
  }
 ],
 "metadata": {
  "kernelspec": {
   "display_name": "Python 3 (ipykernel)",
   "language": "python",
   "name": "python3"
  },
  "language_info": {
   "codemirror_mode": {
    "name": "ipython",
    "version": 3
   },
   "file_extension": ".py",
   "mimetype": "text/x-python",
   "name": "python",
   "nbconvert_exporter": "python",
   "pygments_lexer": "ipython3",
   "version": "3.9.13"
  }
 },
 "nbformat": 4,
 "nbformat_minor": 5
}
